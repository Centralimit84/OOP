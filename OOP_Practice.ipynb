{
  "nbformat": 4,
  "nbformat_minor": 0,
  "metadata": {
    "colab": {
      "provenance": [],
      "authorship_tag": "ABX9TyMwZjGrVSxMPxXZPPGx7QlF",
      "include_colab_link": true
    },
    "kernelspec": {
      "name": "python3",
      "display_name": "Python 3"
    },
    "language_info": {
      "name": "python"
    }
  },
  "cells": [
    {
      "cell_type": "markdown",
      "metadata": {
        "id": "view-in-github",
        "colab_type": "text"
      },
      "source": [
        "<a href=\"https://colab.research.google.com/github/Centralimit84/OOP/blob/main/OOP_Practice.ipynb\" target=\"_parent\"><img src=\"https://colab.research.google.com/assets/colab-badge.svg\" alt=\"Open In Colab\"/></a>"
      ]
    },
    {
      "cell_type": "markdown",
      "source": [
        "**Exercise:**\n",
        "We have a store that sells electronics and want to create an inventory of their items."
      ],
      "metadata": {
        "id": "IVnOdq1iVSur"
      }
    },
    {
      "cell_type": "markdown",
      "source": [
        "# Main Class\n",
        "\n",
        "The following code block contains instructions about:\n",
        "1. Creating instance attributes within _ _ init _ _\n",
        "2. **Assert statement**, a keyword used to check/validate that the arguments received fulfill certain criteria. In this particular case, it is important to ensure that the attributes price and quantity are non-negative.\n",
        "3. When using instance attributes while creating methods we don't need to call them as parameters (writing within the parentheses), unless parameters in the method are not instance attributes. We only need to use self.attribute_name\n",
        "4. Calling methods\n",
        "5. Set values as default\n",
        "6. Assign attributes to specific instances\n",
        "\n",
        "\n",
        "\n",
        "\n",
        "\n",
        "\n"
      ],
      "metadata": {
        "id": "wjMILH_yh0SK"
      }
    },
    {
      "cell_type": "code",
      "execution_count": null,
      "metadata": {
        "id": "gxiR19YqVGNw"
      },
      "outputs": [],
      "source": [
        "# Numerals 1, 2, and 3\n",
        "# First we define the attributes we want all instances within our class to have\n",
        "# All the attributes created underneath def __init__ are called instance attributes\n",
        "class Item:\n",
        "# We can assign the type of input each attribute will receive\n",
        "    def __init__(self, name: str, price: float, quantity=0):\n",
        " # Assert statement: It's a keyword used to check/validate the arguments we receive.\n",
        "       # Run validations to the received arguments\n",
        "       assert price >=0, f\"Price {price} is not greater than or equal to zero\"\n",
        "       assert quantity >=0, f\"Quantity {quantity} is not greater than or equal to zero\"\n",
        "\n",
        "       # Initialize instance attributes. Assign to self object\n",
        "       self.name = name\n",
        "       self.price = price\n",
        "       self.quantity = quantity\n",
        "       print(f\"Instance created: {name}\")\n",
        "\n",
        "# Create any method required\n",
        "    def calculate_total_price(self): # Numeral 3\n",
        "         return self.price * self.quantity\n",
        "\n",
        " # Remember that the object itself is passed so we don't need to estipulate the parameters\n",
        " # Because we assigned those parameters when the instance was created (inside \"init\")"
      ]
    },
    {
      "cell_type": "code",
      "source": [
        "# Numeral 4\n",
        "# Calling methods. Let's create instances\n",
        "item1 = Item('Calculator', 20, 100)\n",
        "item2 = Item('Laptop', 1450, 100)\n",
        "\n",
        "# print item\n",
        "print(item1.name)\n",
        "print(item1.price)\n",
        "print(item1.quantity)\n",
        "print(item1.calculate_total_price())"
      ],
      "metadata": {
        "colab": {
          "base_uri": "https://localhost:8080/"
        },
        "id": "5IFUi1eOWka4",
        "outputId": "f65bf5db-8fb9-46ab-95d5-2b16f423c6da"
      },
      "execution_count": null,
      "outputs": [
        {
          "output_type": "stream",
          "name": "stdout",
          "text": [
            "Instance created: Calculator\n",
            "Instance created: Laptop\n",
            "Calculator\n",
            "20\n",
            "100\n",
            "2000\n"
          ]
        }
      ]
    },
    {
      "cell_type": "code",
      "source": [
        "# Numeral 5\n",
        "# We can set values as default like the attribute quantity\n",
        "# Sometimes we don't how much units of something we have prior inventory so we can, by default, set up\n",
        "# a parameter value like so\n",
        "class Item:\n",
        "    def __init__(self, name, price, quantity=0):\n",
        "       self.name = name\n",
        "       self.price = price\n",
        "       self.quantity = quantity\n",
        "       print(f\"Instance created: {name}\")\n",
        "\n",
        "# Therefore, we don't have to add any value when instantiating an instance"
      ],
      "metadata": {
        "id": "i9nyzCfVYz1p"
      },
      "execution_count": null,
      "outputs": []
    },
    {
      "cell_type": "code",
      "source": [
        "# Then, when instantiating objects we don't need to add a value for that attribute \"quantity\"\n",
        "item1 = Item('Calculator', 20)\n",
        "item2 = Item('Laptop', 1450)\n",
        "\n",
        "# print item\n",
        "print(item1.name)\n",
        "print(item1.price)\n",
        "print(item1.quantity)"
      ],
      "metadata": {
        "colab": {
          "base_uri": "https://localhost:8080/"
        },
        "id": "yUePqheXaEhR",
        "outputId": "63961e74-6dde-490e-dae6-a1bf9c946273"
      },
      "execution_count": null,
      "outputs": [
        {
          "output_type": "stream",
          "name": "stdout",
          "text": [
            "Instance created: Calculator\n",
            "Instance created: Laptop\n",
            "Calculator\n",
            "20\n",
            "0\n"
          ]
        }
      ]
    },
    {
      "cell_type": "code",
      "source": [
        "# Numeral 6\n",
        "# You can add attributes to specific instances individually\n",
        "# Let's say that you want to know if your laptop has a keyboard with a numpad\n",
        "# Since not all laptops will have it\n",
        "item2.has_numpad = False\n"
      ],
      "metadata": {
        "id": "eH2qyDQ5aat1"
      },
      "execution_count": null,
      "outputs": []
    },
    {
      "cell_type": "markdown",
      "source": [
        "**Class Atributes**\n",
        "Multiple built-in class attributes provide information about the class. One, in particular, helps to find what attributes belong to an object/instance at the class and instance level.\n",
        "\n",
        "The class attribute _ _ dict _ _ takes all object attributes and converts them into a dictionary. Important for debugging reasons.\n",
        "\n",
        "* print(Item.__dict__)\n",
        "* print(item1.__dict__)  \n",
        "\n",
        "\n",
        "\n"
      ],
      "metadata": {
        "id": "0WUgqRkGnKWn"
      }
    },
    {
      "cell_type": "code",
      "source": [
        "# Class attributes\n",
        "class Item:\n",
        "    pay_rate = 0.8 # The pay rate after the 20% discount\n",
        "\n",
        "    def __init__(self, name: str, price: float, quantity=0):\n",
        "       # Run validations to the received arguments\n",
        "       assert price >=0, f\"Price {price} is not greater than or equal to zero\"\n",
        "       assert quantity >=0, f\"Quantity {quantity} is not greater than or equal to zero\"\n",
        "\n",
        "       # Assign to self object\n",
        "       self.name = name\n",
        "       self.price = price\n",
        "       self.quantity = quantity\n",
        "       print(f\"Instance created: {name}\")\n",
        "\n",
        "    def calculate_total_price(self):\n",
        "         return self.price * self.quantity\n",
        "\n",
        "    def apply_discount(self):\n",
        "        self.price = self.price * self.pay_rate # We could've used \"Item.pay_rate\" since it belongs\n",
        "        # to class attributes\n",
        "        # However, it's better to use self.pay_rate so instances can override the method"
      ],
      "metadata": {
        "id": "Zi_Vt74WlmHW"
      },
      "execution_count": null,
      "outputs": []
    },
    {
      "cell_type": "code",
      "source": [
        "item1 = Item('Calculator', 20, 100)"
      ],
      "metadata": {
        "colab": {
          "base_uri": "https://localhost:8080/"
        },
        "id": "iiuydZeLnGay",
        "outputId": "b520648f-d7b7-4ac3-88ea-6ec1f95bc91a"
      },
      "execution_count": null,
      "outputs": [
        {
          "output_type": "stream",
          "name": "stdout",
          "text": [
            "Instance created: Calculator\n"
          ]
        }
      ]
    },
    {
      "cell_type": "code",
      "source": [
        "print(Item.__dict__) # All the attributes for class level\n",
        "print(item1.__dict__) # All the attributes for attribute level"
      ],
      "metadata": {
        "colab": {
          "base_uri": "https://localhost:8080/"
        },
        "id": "q2Z6Oye4oRuJ",
        "outputId": "242f9717-42ce-45a3-f2fb-ca69c42ec99a"
      },
      "execution_count": null,
      "outputs": [
        {
          "output_type": "stream",
          "name": "stdout",
          "text": [
            "{'__module__': '__main__', 'pay_rate': 0.8, '__init__': <function Item.__init__ at 0x7ba7ff54d6c0>, 'calculate_total_price': <function Item.calculate_total_price at 0x7ba7ff54cd30>, 'apply_discount': <function Item.apply_discount at 0x7ba7ff54ce50>, '__dict__': <attribute '__dict__' of 'Item' objects>, '__weakref__': <attribute '__weakref__' of 'Item' objects>, '__doc__': None}\n",
            "{'name': 'Calculator', 'price': 20, 'quantity': 100}\n"
          ]
        }
      ]
    },
    {
      "cell_type": "code",
      "source": [
        "item1.apply_discount()\n",
        "print(item1.price)"
      ],
      "metadata": {
        "colab": {
          "base_uri": "https://localhost:8080/"
        },
        "id": "Ur-TcZgHrgv5",
        "outputId": "eda19df6-71d6-4408-cf5e-0d91a61e7509"
      },
      "execution_count": null,
      "outputs": [
        {
          "output_type": "stream",
          "name": "stdout",
          "text": [
            "16.0\n"
          ]
        }
      ]
    },
    {
      "cell_type": "markdown",
      "source": [
        "**Overriding Methods** within the instance level. For instance, if we need to set a different discount within a specific instance/object. We can do it after creating the instance like so:"
      ],
      "metadata": {
        "id": "JIguNqFur6a7"
      }
    },
    {
      "cell_type": "code",
      "source": [
        "item2 = Item('Laptop', 1450, 100)\n",
        "item2.pay_rate = 0.7\n",
        "item2.apply_discount()\n",
        "print(item2.price)"
      ],
      "metadata": {
        "colab": {
          "base_uri": "https://localhost:8080/"
        },
        "id": "xQNMxw1Zr5wG",
        "outputId": "f0faa155-d5f9-4a0f-8f5f-4b4c967116a0"
      },
      "execution_count": null,
      "outputs": [
        {
          "output_type": "stream",
          "name": "stdout",
          "text": [
            "Instance created: Laptop\n",
            "1014.9999999999999\n"
          ]
        }
      ]
    },
    {
      "cell_type": "code",
      "source": [
        "item3=Item(\"Cable\",10,5)\n",
        "item4=Item(\"Mouse\",50,5)\n",
        "item5=Item(\"Keyboard\",75,5)"
      ],
      "metadata": {
        "colab": {
          "base_uri": "https://localhost:8080/"
        },
        "id": "XUrd9J7W0DDr",
        "outputId": "d6b7af0a-8098-4ebb-c08f-ca840ee41959"
      },
      "execution_count": null,
      "outputs": [
        {
          "output_type": "stream",
          "name": "stdout",
          "text": [
            "Instance created: Cable\n",
            "Instance created: Mouse\n",
            "Instance created: Keyboard\n"
          ]
        }
      ]
    },
    {
      "cell_type": "markdown",
      "source": [
        "**Instances Consolidation:** There are cases when we need to access all the instances created under a specific class. To do so, we can create a list that stores all items/objects like so:\n",
        "1. Create an empty list as a class attribute that will store instances of the Item class\n",
        "2. Under _ _ init _ _, define the process by which every element, once created, is sent to that list (append).\n",
        "3. We use _ _ init _ _ since all attributes under this method are called/assigned automatically once an instance is created.\n",
        "\n"
      ],
      "metadata": {
        "id": "M1b9ngM_1fu0"
      }
    },
    {
      "cell_type": "code",
      "source": [
        "class Item:\n",
        "    pay_rate = 0.8\n",
        "# Empty list to store all attributes once they are created\n",
        "    all=[]\n",
        "    def __init__(self, name: str, price: float, quantity=0):\n",
        "\n",
        "       assert price >=0, f\"Price {price} is not greater than or equal to zero\"\n",
        "       assert quantity >=0, f\"Quantity {quantity} is not greater than or equal to zero\"\n",
        "\n",
        "       # Assign to self object\n",
        "       self.name = name\n",
        "       self.price = price\n",
        "       self.quantity = quantity\n",
        "\n",
        "       # Action to execute. Process to add every instance to the list \"all\"\n",
        "       Item.all.append (self)\n",
        "\n",
        "    def calculate_total_price(self):\n",
        "         return self.price * self.quantity\n",
        "\n",
        "    def apply_discount(self):\n",
        "        self.price = self.price * self.pay_rate\n",
        "\n",
        "item1 = Item('Calculator', 20, 100)\n",
        "item2 = Item('Laptop', 1450, 100)\n",
        "item3=Item(\"Cable\",10,5)\n",
        "item4=Item(\"Mouse\",50,5)\n",
        "item5=Item(\"Keyboard\",75,5)\n",
        "\n",
        "\n",
        "print (Item.all)"
      ],
      "metadata": {
        "colab": {
          "base_uri": "https://localhost:8080/"
        },
        "id": "BsIdmqeq0jDo",
        "outputId": "27c19cd7-f43c-4c5f-86c5-e5efd43981d1"
      },
      "execution_count": null,
      "outputs": [
        {
          "output_type": "stream",
          "name": "stdout",
          "text": [
            "[<__main__.Item object at 0x7ba7ff578130>, <__main__.Item object at 0x7ba7ff57ac20>, <__main__.Item object at 0x7ba7ff578cd0>, <__main__.Item object at 0x7ba7ff57a890>, <__main__.Item object at 0x7ba7ff57aa40>]\n"
          ]
        }
      ]
    },
    {
      "cell_type": "markdown",
      "source": [
        "4.  There are multiple methods to change how the data is presented, given that the default one is not too intuitive <__main__.Item object at 0x7ba7ff578130>.\n",
        "\n",
        " 4.a. Creating a for loop to retrieve isntance names\n",
        "\n",
        " 4.b. Using the method _ _ repr _ _\n",
        "\n",
        " 4.c. Using the class attribute _ _ dict _ _ to display instances as a list\n"
      ],
      "metadata": {
        "id": "iyDDGHKj92sP"
      }
    },
    {
      "cell_type": "code",
      "source": [
        "# 4.a. The call above gives us the list of objects created. However, if we wan to retrieve a list with\n",
        "# names we have to create a for loop\n",
        "for instance in Item.all:\n",
        "    print(instance.name)"
      ],
      "metadata": {
        "colab": {
          "base_uri": "https://localhost:8080/"
        },
        "id": "ujJ9qYlz39CW",
        "outputId": "a4561863-1aeb-41f9-c9b7-e0f3c93add89"
      },
      "execution_count": null,
      "outputs": [
        {
          "output_type": "stream",
          "name": "stdout",
          "text": [
            "Calculator\n",
            "Laptop\n",
            "Cable\n",
            "Mouse\n",
            "Keyboard\n"
          ]
        }
      ]
    },
    {
      "cell_type": "code",
      "source": [
        "# 4.b. We can also change how the object is being represented \"<__main__.Item object at 0x7e4bb2f76230>\"\n",
        "# We can use a magic method like so\n",
        "# Class attributes/variable\n",
        "class Item:\n",
        "    pay_rate = 0.8\n",
        "    all=[]\n",
        "    def __init__(self, name: str, price: float, quantity=0):\n",
        "\n",
        "       assert price >=0, f\"Price {price} is not greater than or equal to zero\"\n",
        "       assert quantity >=0, f\"Quantity {quantity} is not greater than or equal to zero\"\n",
        "\n",
        "       self.name = name\n",
        "       self.price = price\n",
        "       self.quantity = quantity\n",
        "\n",
        "       Item.all.append (self) #\n",
        "\n",
        "    def calculate_total_price(self):\n",
        "         return self.price * self.quantity\n",
        "\n",
        "    def apply_discount(self):\n",
        "        self.price = self.price * self.pay_rate\n",
        "\n",
        "    def __repr__(self): # We have _ _ repr _ _ to represent our objects. There is another\n",
        "    # method called \"_ _str_ _\".\n",
        "        return f\"Item ('{self.name}',{self.price}, {self.quantity})\"\n",
        "\n",
        "item1 = Item('Calculator', 20, 100)\n",
        "item2 = Item('Laptop', 1450, 100)\n",
        "item3=Item(\"Cable\",10,5)\n",
        "item4=Item(\"Mouse\",50,5)\n",
        "item5=Item(\"Keyboard\",75,5)\n",
        "\n",
        "print(Item.all)"
      ],
      "metadata": {
        "colab": {
          "base_uri": "https://localhost:8080/"
        },
        "id": "LPy-HK5H5bb3",
        "outputId": "af3677a9-3794-4aec-e148-574f40230dea"
      },
      "execution_count": null,
      "outputs": [
        {
          "output_type": "stream",
          "name": "stdout",
          "text": [
            "[Item ('Calculator',20, 100), Item ('Laptop',1450, 100), Item ('Cable',10, 5), Item ('Mouse',50, 5), Item ('Keyboard',75, 5)]\n"
          ]
        }
      ]
    },
    {
      "cell_type": "code",
      "source": [
        "# 4.c. We can also use the class attribute \"_ _dict_ _\" to display instances as a list\n",
        "print (item1.__dict__)\n",
        "print (item2.__dict__)\n",
        "print (item3.__dict__)\n",
        "print (item4.__dict__)\n",
        "print (item5.__dict__)"
      ],
      "metadata": {
        "colab": {
          "base_uri": "https://localhost:8080/"
        },
        "id": "AdDjMECFlTIq",
        "outputId": "698e3415-7e1e-4332-ee09-064c8dbce80b"
      },
      "execution_count": null,
      "outputs": [
        {
          "output_type": "stream",
          "name": "stdout",
          "text": [
            "{'name': 'Calculator', 'price': 20, 'quantity': 100}\n",
            "{'name': 'Laptop', 'price': 1450, 'quantity': 100}\n",
            "{'name': 'Cable', 'price': 10, 'quantity': 5}\n",
            "{'name': 'Mouse', 'price': 50, 'quantity': 5}\n",
            "{'name': 'Keyboard', 'price': 75, 'quantity': 5}\n"
          ]
        }
      ]
    },
    {
      "cell_type": "markdown",
      "source": [
        "# Creating a CSV file to store instances\n",
        "\n",
        "As we add more items or features to the list, it will get bigger and bigger, and we will have an issue with memory use since our data and code are in the same exact location (same ipynb). Thus, we can create a database using CSV to keep the data.\n",
        "1. Convert data to a dictionary format\n",
        "2. Import the library CSV (comma-separated values)\n",
        "3. Assign a name to the file\n",
        "4. Open the file in writing mode"
      ],
      "metadata": {
        "id": "MEAqSkcllogC"
      }
    },
    {
      "cell_type": "code",
      "source": [
        "data = [\n",
        "    {'name': 'Calculator', 'price': 20, 'quantity': 100},\n",
        "    {'name': 'Laptop', 'price': 1450, 'quantity': 100},\n",
        "    {'name': 'Cable', 'price': 10, 'quantity': 5},\n",
        "    {'name': 'Mouse', 'price': 50, 'quantity': 5},\n",
        "    {'name': 'Keyboard', 'price': 75, 'quantity': 5}\n",
        "]"
      ],
      "metadata": {
        "id": "LOvnha55EENa"
      },
      "execution_count": null,
      "outputs": []
    },
    {
      "cell_type": "code",
      "source": [
        "# We can use a csv to save our values as comma separated values where each line will represent a single\n",
        "# structured data\n",
        "import csv\n",
        "# Assign a name to your file\n",
        "file_name = \"instances.csv\"\n",
        "# Open a csv file in \"write\" mode\n",
        "with open (file_name, \"w\", newline='') as csvfile:\n",
        "    # Define the csv writer\n",
        "    csvwriter = csv.writer(csvfile)\n",
        "    # Write the header (if needed)\n",
        "    csvwriter.writerow(['name', 'price', 'quantity'])\n",
        "    # Write the data\n",
        "    for instance in data:\n",
        "       csvwriter.writerow([instance['name'], instance['price'], instance['quantity']])\n",
        "\n",
        "print(f\"Data has been written to {file_name}\")"
      ],
      "metadata": {
        "id": "lFpAalLd8d2r",
        "colab": {
          "base_uri": "https://localhost:8080/"
        },
        "outputId": "3c222f10-b454-4348-9885-5b7d7f5be378"
      },
      "execution_count": null,
      "outputs": [
        {
          "output_type": "stream",
          "name": "stdout",
          "text": [
            "Data has been written to instances.csv\n"
          ]
        }
      ]
    },
    {
      "cell_type": "markdown",
      "source": [
        "# Downloading a CSV file"
      ],
      "metadata": {
        "id": "Nm9ROxVhnSLh"
      }
    },
    {
      "cell_type": "code",
      "source": [
        "from google.colab import files\n",
        "files.download('instances.csv')"
      ],
      "metadata": {
        "colab": {
          "base_uri": "https://localhost:8080/",
          "height": 17
        },
        "id": "XSk_faSDm7g3",
        "outputId": "3dc052a6-aac3-422e-9e2c-02b82092c174"
      },
      "execution_count": null,
      "outputs": [
        {
          "output_type": "display_data",
          "data": {
            "text/plain": [
              "<IPython.core.display.Javascript object>"
            ],
            "application/javascript": [
              "\n",
              "    async function download(id, filename, size) {\n",
              "      if (!google.colab.kernel.accessAllowed) {\n",
              "        return;\n",
              "      }\n",
              "      const div = document.createElement('div');\n",
              "      const label = document.createElement('label');\n",
              "      label.textContent = `Downloading \"${filename}\": `;\n",
              "      div.appendChild(label);\n",
              "      const progress = document.createElement('progress');\n",
              "      progress.max = size;\n",
              "      div.appendChild(progress);\n",
              "      document.body.appendChild(div);\n",
              "\n",
              "      const buffers = [];\n",
              "      let downloaded = 0;\n",
              "\n",
              "      const channel = await google.colab.kernel.comms.open(id);\n",
              "      // Send a message to notify the kernel that we're ready.\n",
              "      channel.send({})\n",
              "\n",
              "      for await (const message of channel.messages) {\n",
              "        // Send a message to notify the kernel that we're ready.\n",
              "        channel.send({})\n",
              "        if (message.buffers) {\n",
              "          for (const buffer of message.buffers) {\n",
              "            buffers.push(buffer);\n",
              "            downloaded += buffer.byteLength;\n",
              "            progress.value = downloaded;\n",
              "          }\n",
              "        }\n",
              "      }\n",
              "      const blob = new Blob(buffers, {type: 'application/binary'});\n",
              "      const a = document.createElement('a');\n",
              "      a.href = window.URL.createObjectURL(blob);\n",
              "      a.download = filename;\n",
              "      div.appendChild(a);\n",
              "      a.click();\n",
              "      div.remove();\n",
              "    }\n",
              "  "
            ]
          },
          "metadata": {}
        },
        {
          "output_type": "display_data",
          "data": {
            "text/plain": [
              "<IPython.core.display.Javascript object>"
            ],
            "application/javascript": [
              "download(\"download_53bb1cc0-a195-447f-91fb-62efc93663a8\", \"instances.csv\", 96)"
            ]
          },
          "metadata": {}
        }
      ]
    },
    {
      "cell_type": "markdown",
      "source": [
        "# Adding a class method to store items in the CSV file every time we create an instance\n",
        "\n",
        "We can develop a class method to called \"instantiate_from_csv\" to:\n",
        "\n",
        "1. Read data from the CSV file\n",
        "2. Create instances of the Item class\n",
        "3. Append them to the \"all\" list\n"
      ],
      "metadata": {
        "id": "DzztGPlXAjLb"
      }
    },
    {
      "cell_type": "code",
      "source": [
        "class Item:\n",
        "    pay_rate = 0.8\n",
        "    all=[]\n",
        "    def __init__(self, name: str, price: float, quantity=0):\n",
        "\n",
        "       assert price >=0, f\"Price {price} is not greater than or equal to zero\"\n",
        "       assert quantity >=0, f\"Quantity {quantity} is not greater than or equal to zero\"\n",
        "\n",
        "       self.name = name\n",
        "       self.price = price\n",
        "       self.quantity = quantity\n",
        "\n",
        "       Item.all.append (self)\n",
        "\n",
        "    def calculate_total_price(self):\n",
        "         return self.price * self.quantity\n",
        "\n",
        "    def apply_discount(self):\n",
        "        self.price = self.price * self.pay_rate\n",
        "\n",
        "# We can't called this method from the instance because we don't have any instance created yet\n",
        "# So it has to be a class method\n",
        "# Use Decorators, a very powerful and useful tool in Python since it allows programmers to modify\n",
        "# the behaviour of a function or class\n",
        "    @classmethod\n",
        "    def instantiate_from_csv(cls):# It takes the class itself as its parameter\n",
        "        with open ('instances.csv', 'r') as f:# Opens the file 'instances.csv' in read mode and f is\n",
        "        # just a variable name\n",
        "            reader = csv.DictReader(f)# Creates a CSV reader object using csv.DictReader class\n",
        "            items = list(reader)#Reads all rows from the CSV file using the reader object and\n",
        "            #converts them into a list of dictionaries. Each dictionary represents a row in the CSV file.\n",
        "# To instantiate our instances\n",
        "        for item in items:\n",
        "# It iterates through the list of dictionaries (items), where each dictionary represents a row from\n",
        "# the CSV file\n",
        "            Item( # Creates an instance of the class \"Item\" for each row in the CSV, passing the values\n",
        "                  # from the dictionary to the class constructor\n",
        "                name = item.get('name'),\n",
        "                price = float(item.get('price')),\n",
        "                quantity = int(item.get('quantity')),\n",
        "            )\n",
        "# Retrieves values associated with the keys name, price, and quantity\n",
        "    def __repr__(self): # We have _ _ repr _ _ to represent our objects. There is another method called\n",
        "    # \"_ _str_ _\".\n",
        "        return f\"Item ('{self.name}',{self.price}, {self.quantity})\"\n",
        "\n",
        "# Calls the \"instantiate_from_csv\" method to create Item instances from the CSV file.\n",
        "Item.instantiate_from_csv()\n",
        "print (Item.all)\n"
      ],
      "metadata": {
        "colab": {
          "base_uri": "https://localhost:8080/"
        },
        "outputId": "f94375d2-485e-4111-c808-6113711d4b50",
        "id": "Fx3udZ7BCkb3"
      },
      "execution_count": null,
      "outputs": [
        {
          "output_type": "stream",
          "name": "stdout",
          "text": [
            "[Item ('Calculator',20.0, 100), Item ('Laptop',1450.0, 100), Item ('Cable',10.0, 5), Item ('Mouse',50.0, 5), Item ('Keyboard',75.0, 5)]\n"
          ]
        }
      ]
    },
    {
      "cell_type": "markdown",
      "source": [
        "5. Use of decorators in Python\n",
        "\n",
        "**Class Methods**\n",
        "\n",
        "In the case above, we used \"@classmethod\" to create a class method. This decorator in Python indicates that the following function is a class method, not an instance method. Class methods take a reference to the class itself as their first parameter (cls conventionally).\n",
        "\n",
        "1. Define a method called 'instances.csv.'\n",
        "2. Use the \"with\" statement to ensure the file is properly closed after its suite finishes, even if an exception is raised during the execution.\n",
        "3. Use \"as f:\" f is a common convention used to refer to file object variables created by the open() function. Python open () is used to open a file and return a file object.\n",
        "4. This class reads a CSV file and returns rows as dictionaries where keys are the column names.\n",
        "\n",
        "In summary, this block of code reads data from a CSV file, creates instances of the Item class for each row in the CSV, and initializes these instances with data from the CSV file. This is a common pattern for initializing objects from external data sources like CSV files.\n",
        "\n",
        "**We use class methods to create processes that have a relationship with the class. They are used to manipulate different data structures to instantiate objects like we did with the CSV file.**\n",
        "\n",
        "\n"
      ],
      "metadata": {
        "id": "YXf6lGdjcuC2"
      }
    },
    {
      "cell_type": "markdown",
      "source": [
        "**Static Methods**\n",
        "\n",
        "It's a method that belongs to the class itself rather than to any specific instance of the class. Unlike regular methods, static methods are not bound to object instances and can be called on the class itself without creating an instance of the class.\n",
        "\n",
        "* We use the decorator @staticmethod\n",
        "* So far, we have explored three types of methods: instance methods (the ones that send in the background the instance as the first argument). Class methods always send the class reference as the first argument (receive parameter), and static methods do not; they work like normal functions.\n",
        "* We use static method when we want to do something related to the class, but not unique per instance.\n",
        "\n",
        "\n",
        "Main difference between **class and static method** them is the calling in the background class method (cls) static method (parameters)\n"
      ],
      "metadata": {
        "id": "b-s8bCV_FKG7"
      }
    },
    {
      "cell_type": "code",
      "source": [
        "class Item:\n",
        "    pay_rate = 0.8\n",
        "    all=[]\n",
        "    def __init__(self, name: str, price: float, quantity=0):\n",
        "\n",
        "       assert price >=0, f\"Price {price} is not greater than or equal to zero\"\n",
        "       assert quantity >=0, f\"Quantity {quantity} is not greater than or equal to zero\"\n",
        "\n",
        "       self.name = name\n",
        "       self.price = price\n",
        "       self.quantity = quantity\n",
        "\n",
        "       Item.all.append (self)\n",
        "\n",
        "    def calculate_total_price(self):\n",
        "         return self.price * self.quantity\n",
        "\n",
        "    def apply_discount(self):\n",
        "        self.price = self.price * self.pay_rate\n",
        "\n",
        "    @classmethod\n",
        "    def instantiate_from_csv(cls): # This can be another file type JSON/yaml\n",
        "        with open ('instances.csv', 'r') as f:\n",
        "            reader = csv.DictReader(f)\n",
        "            items = list(reader)\n",
        "        for item in items:\n",
        "            Item(\n",
        "                name = item.get('name'),\n",
        "                price = float(item.get('price')),\n",
        "                quantity = int(item.get('quantity')),\n",
        "            )\n",
        "\n",
        "    @staticmethod\n",
        "    def is_integer(num):\n",
        "    # Use a couple of if arguments to check if the input argument is an integer\n",
        "    # We have to make sure to include floats that are .0 like 5.0, 10.0, and so on\n",
        "        if isinstance (num, float): # isintance is a built-in fuction\n",
        "           return num.is_integer() # This line checks if the float is an integer\n",
        "           # (3.0 is considered an integer). The method returns True if the float has no fractional part\n",
        "           # i.e., it's a whole number and False otherwise\n",
        "        elif isinstance (num, int):\n",
        "           return True\n",
        "        else:\n",
        "           return False\n",
        "\n",
        "    def __repr__(self):\n",
        "        return f\"Item ('{self.name}',{self.price}, {self.quantity})\"\n",
        "\n",
        "Item.instantiate_from_csv()\n",
        "print (Item.all)\n"
      ],
      "metadata": {
        "colab": {
          "base_uri": "https://localhost:8080/"
        },
        "id": "KNJJoS8zUDu-",
        "outputId": "9833e30b-64ff-4fa0-d80a-2e229d729f62"
      },
      "execution_count": null,
      "outputs": [
        {
          "output_type": "stream",
          "name": "stdout",
          "text": [
            "[Item ('Calculator',20.0, 100), Item ('Laptop',1450.0, 100), Item ('Cable',10.0, 5), Item ('Mouse',50.0, 5), Item ('Keyboard',75.0, 5)]\n"
          ]
        }
      ]
    },
    {
      "cell_type": "markdown",
      "source": [
        "# Inheritance\n",
        "\n",
        "So far, we have dealt only with the main class configuration (Item). Therefore, we haven't created a child (subclass of Item) that receives the same class attributes. Think about a decision tree; the Item class would be the root, and the child a branch."
      ],
      "metadata": {
        "id": "O-zGIYAjpgd1"
      }
    },
    {
      "cell_type": "code",
      "source": [
        "# What if we have broken products?\n",
        "# We need to use the super function\n",
        "class Phone(Item):\n",
        "    all=[]\n",
        "    def __init__(self, name: str, price: float, quantity=0, broken_phones=0):\n",
        "       # Call to super function to inherit all attributes and methods from the main class Item\n",
        "        super().__init__(name, price, quantity)\n",
        "       # Run validations for the received arguments\n",
        "        assert broken_phones >=0, f\"Broken Phones {broken_phones} is not greater than or equal to zero\"\n",
        "       # Initialize new attributes\n",
        "        self.broken_phones = broken_phones\n",
        "       # Add new items to a list\n",
        "        Phone.all.append (self)\n",
        "\n",
        "phone1=Phone(\"iPhone14Plus\", 500,5,1)\n",
        "print(phone1.calculate_total_price())"
      ],
      "metadata": {
        "colab": {
          "base_uri": "https://localhost:8080/"
        },
        "id": "yxmH6Uheor8t",
        "outputId": "2dab8d21-8440-46dd-fa5d-93f1d8abb06c"
      },
      "execution_count": null,
      "outputs": [
        {
          "output_type": "stream",
          "name": "stdout",
          "text": [
            "2500\n"
          ]
        }
      ]
    },
    {
      "cell_type": "code",
      "source": [
        "# What if we have broken products?\n",
        "# We need to use the super function\n",
        "class Phone(Item):\n",
        "    all=[]\n",
        "    def __init__(self, name: str, price: float, quantity=0, broken_phones=0):\n",
        "       # Call to super function to inherit all attributes and methods from the main class Item\n",
        "        super().__init__(name, price, quantity)\n",
        "       # Run validations for the received arguments\n",
        "        assert broken_phones >=0, f\"Broken Phones {broken_phones} is not greater than or equal to zero\"\n",
        "       # Initialize new attributes\n",
        "        self.broken_phones = broken_phones\n",
        "       # Add new items to a list\n",
        "        Phone.all.append (self)\n",
        "\n",
        "phone1=Phone(\"iPhone14Plus\", 500,5,1)\n",
        "print(phone1.calculate_total_price())"
      ],
      "metadata": {
        "colab": {
          "base_uri": "https://localhost:8080/"
        },
        "outputId": "2dab8d21-8440-46dd-fa5d-93f1d8abb06c",
        "id": "S5GFqxsUdQge"
      },
      "execution_count": null,
      "outputs": [
        {
          "output_type": "stream",
          "name": "stdout",
          "text": [
            "2500\n"
          ]
        }
      ]
    },
    {
      "cell_type": "code",
      "source": [
        "print(Item.all)\n",
        "print(Phone.all)"
      ],
      "metadata": {
        "colab": {
          "base_uri": "https://localhost:8080/"
        },
        "id": "jpcfwjhuNdpA",
        "outputId": "d4eef8a4-80e2-407e-decd-83ea300cbd24"
      },
      "execution_count": null,
      "outputs": [
        {
          "output_type": "stream",
          "name": "stdout",
          "text": [
            "[Item ('Calculator',20.0, 100), Item ('Laptop',1450.0, 100), Item ('Cable',10.0, 5), Item ('Mouse',50.0, 5), Item ('Keyboard',75.0, 5), Item ('iPhone14Plus',500, 5), Item ('iPhone14Plus',500, 5)]\n",
            "[Item ('iPhone14Plus',500, 5)]\n"
          ]
        }
      ]
    },
    {
      "cell_type": "markdown",
      "source": [
        "If we look at the printed output, we can see that the instances from Phone have Item as a class because we predetermined it during the main class definition. In def _ _ repr _ _\n",
        "\n",
        "Thus, we need to modify it within the main code definition"
      ],
      "metadata": {
        "id": "1Et9GnTYbOPJ"
      }
    },
    {
      "cell_type": "code",
      "source": [
        "# We need to go to the repr definition and add change \"Item\" for \"self.__class__.__name__\"\n",
        "# So, instead of printing Item it'll print out the name of the class\n",
        "class Item:\n",
        "    pay_rate = 0.8\n",
        "    all=[]\n",
        "    def __init__(self, name: str, price: float, quantity=0):\n",
        "\n",
        "       assert price >=0, f\"Price {price} is not greater than or equal to zero\"\n",
        "       assert quantity >=0, f\"Quantity {quantity} is not greater than or equal to zero\"\n",
        "\n",
        "       self.name = name\n",
        "       self.price = price\n",
        "       self.quantity = quantity\n",
        "\n",
        "       Item.all.append (self)\n",
        "\n",
        "    def calculate_total_price(self):\n",
        "         return self.price * self.quantity\n",
        "\n",
        "    def apply_discount(self):\n",
        "        self.price = self.price * self.pay_rate\n",
        "\n",
        "    @classmethod\n",
        "    def instantiate_from_csv(cls): # This can be another file type JSON/yaml\n",
        "        with open ('instances.csv', 'r') as f:\n",
        "            reader = csv.DictReader(f)\n",
        "            items = list(reader)\n",
        "        for item in items:\n",
        "            Item(\n",
        "                name = item.get('name'),\n",
        "                price = float(item.get('price')),\n",
        "                quantity = int(item.get('quantity')),\n",
        "            )\n",
        "\n",
        "    @staticmethod\n",
        "    def is_integer(num):\n",
        "        if isinstance (num, float):\n",
        "           return num.is_integer()\n",
        "        elif isinstance (num, int):\n",
        "           return True\n",
        "        else:\n",
        "           return False\n",
        "\n",
        "    def __repr__(self):\n",
        "        return f\"{self.__class__.__name__} ('{self.name}',{self.price}, {self.quantity})\"\n",
        "\n",
        "Item.instantiate_from_csv()"
      ],
      "metadata": {
        "colab": {
          "base_uri": "https://localhost:8080/"
        },
        "id": "Mg-OBur8NzlT",
        "outputId": "1ba55f27-e9bd-4e07-8eaf-6dade8795737"
      },
      "execution_count": null,
      "outputs": [
        {
          "output_type": "stream",
          "name": "stdout",
          "text": [
            "[Item ('Calculator',20.0, 100), Item ('Laptop',1450.0, 100), Item ('Cable',10.0, 5), Item ('Mouse',50.0, 5), Item ('Keyboard',75.0, 5)]\n"
          ]
        }
      ]
    },
    {
      "cell_type": "code",
      "source": [
        "print(Item.all)\n",
        "print(Phone.all)"
      ],
      "metadata": {
        "colab": {
          "base_uri": "https://localhost:8080/"
        },
        "outputId": "25dc7088-3717-4fb0-b0bf-05529e877f4a",
        "id": "YOtFSOPJc3O4"
      },
      "execution_count": null,
      "outputs": [
        {
          "output_type": "stream",
          "name": "stdout",
          "text": [
            "[Item ('Calculator',20.0, 100), Item ('Laptop',1450.0, 100), Item ('Cable',10.0, 5), Item ('Mouse',50.0, 5), Item ('Keyboard',75.0, 5), Phone ('iPhone14Plus',500, 5)]\n",
            "[Phone ('iPhone14Plus',500, 5)]\n"
          ]
        }
      ]
    },
    {
      "cell_type": "markdown",
      "source": [
        "After creating the Phone subclass as a child of Item and knowing that the child inherits all the attributes and methods from the parent, we can eliminate some coding from the class Phone, for instance, the list \"all\" and the append process."
      ],
      "metadata": {
        "id": "3CmPqxmIdk8N"
      }
    },
    {
      "cell_type": "code",
      "source": [
        "class Phone(Item):\n",
        "    def __init__(self, name: str, price: float, quantity=0, broken_phones=0):\n",
        "        super().__init__(name, price, quantity)\n",
        "        assert broken_phones >=0, f\"Broken Phones {broken_phones} is not greater than or equal to zero\"\n",
        "        self.broken_phones = broken_phones\n",
        "\n",
        "phone1=Phone(\"iPhone14Plus\", 500,5,1)\n",
        "print(phone1.calculate_total_price())"
      ],
      "metadata": {
        "colab": {
          "base_uri": "https://localhost:8080/"
        },
        "outputId": "563df005-2599-4a3f-c00c-9db72eece569",
        "id": "PngbVwckdfhP"
      },
      "execution_count": null,
      "outputs": [
        {
          "output_type": "stream",
          "name": "stdout",
          "text": [
            "2500\n"
          ]
        }
      ]
    },
    {
      "cell_type": "code",
      "source": [
        "print(Item.all)"
      ],
      "metadata": {
        "colab": {
          "base_uri": "https://localhost:8080/"
        },
        "outputId": "df5fa162-4044-450e-9ae3-135f8184a841",
        "id": "6R78KC1VeRLU"
      },
      "execution_count": null,
      "outputs": [
        {
          "output_type": "stream",
          "name": "stdout",
          "text": [
            "[Item ('Calculator',20.0, 100), Item ('Laptop',1450.0, 100), Item ('Cable',10.0, 5), Item ('Mouse',50.0, 5), Item ('Keyboard',75.0, 5), Phone ('iPhone14Plus',500, 5), Phone ('iPhone14Plus',500, 5)]\n"
          ]
        }
      ]
    },
    {
      "cell_type": "markdown",
      "source": [
        "Now let's organize our code using different files so the main ipynp file is only in charge of creating instances of those classes. Thus, we will have two separated files, one for Item class and the other for Phone subclass."
      ],
      "metadata": {
        "id": "-zS53C7jgfO_"
      }
    },
    {
      "cell_type": "code",
      "source": [],
      "metadata": {
        "id": "vmNsxNf2eQ71"
      },
      "execution_count": null,
      "outputs": []
    }
  ]
}